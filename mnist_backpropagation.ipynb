{
  "nbformat": 4,
  "nbformat_minor": 0,
  "metadata": {
    "colab": {
      "name": "mnist_backpropagation.ipynb",
      "provenance": [],
      "collapsed_sections": [],
      "mount_file_id": "1VVXJ5UJDYd1_Q_cLDWay7bKhjM776uEZ",
      "authorship_tag": "ABX9TyOElwS1fEdyp51EkocZuqNW",
      "include_colab_link": true
    },
    "kernelspec": {
      "name": "python3",
      "display_name": "Python 3"
    },
    "language_info": {
      "name": "python"
    }
  },
  "cells": [
    {
      "cell_type": "markdown",
      "metadata": {
        "id": "view-in-github",
        "colab_type": "text"
      },
      "source": [
        "<a href=\"https://colab.research.google.com/github/Jaeyoung-Choi/Hardware/blob/master/mnist_backpropagation.ipynb\" target=\"_parent\"><img src=\"https://colab.research.google.com/assets/colab-badge.svg\" alt=\"Open In Colab\"/></a>"
      ]
    },
    {
      "cell_type": "code",
      "metadata": {
        "id": "v79U8giGcgH7"
      },
      "source": [
        "import torch\n",
        "from torchvision import datasets as dsets\n",
        "import torchvision.transforms as transforms"
      ],
      "execution_count": 15,
      "outputs": []
    },
    {
      "cell_type": "code",
      "metadata": {
        "id": "vz5Z6ic4eoma"
      },
      "source": [
        "device = 'cuda' if torch.cuda.is_available() else 'cpu'\n",
        "\n",
        "torch.manual_seed(42)\n",
        "if device == 'cuda':\n",
        "    torch.cuda.manual_seed_all(42)\n",
        "    print(torch.cuda.current_device(), torch.cuda.device_count(), torch.cuda.get_device_name(0))"
      ],
      "execution_count": 16,
      "outputs": []
    },
    {
      "cell_type": "code",
      "metadata": {
        "id": "kxJYOd6qgHZj"
      },
      "source": [
        "def sigmoid(X):\n",
        "    return 1 / (1 + torch.exp(-X))\n",
        "\n",
        "def softmax(X):\n",
        "    return torch.exp(X) / torch.unsqueeze(torch.sum(torch.exp(X), dim = 1), 1)"
      ],
      "execution_count": 17,
      "outputs": []
    },
    {
      "cell_type": "code",
      "metadata": {
        "id": "Uy-IhTUN7yVJ"
      },
      "source": [
        "def dsigmoid(X):\n",
        "    # return torch.exp(-X) / torch.pow(1 + torch.exp(-X), 2)\n",
        "    return torch.mul(sigmoid(X), 1 - sigmoid(X))\n",
        "\n",
        "def dsoftmax(X):\n",
        "    #return torch.mul((torch.sum(torch.exp(X), dim = 1) - torch.exp(X)) / torch.pow(torch.sum(torch.exp(X), dim = 1), 2), torch.exp(X))\n",
        "    return softmax(X) - torch.pow(softmax(X), 2)"
      ],
      "execution_count": 18,
      "outputs": []
    },
    {
      "cell_type": "code",
      "metadata": {
        "id": "mxVk3MvCfAyb"
      },
      "source": [
        "# lr = 0.001\n",
        "lr = 0.00001"
      ],
      "execution_count": 19,
      "outputs": []
    },
    {
      "cell_type": "code",
      "metadata": {
        "id": "y-NCWe9WfM1q"
      },
      "source": [
        "class model:\n",
        "    def __init__(self):\n",
        "        self.W = [torch.normal(torch.zeros((784, 16)), torch.tensor([2])).to(device),\n",
        "                  torch.normal(torch.zeros((16, 16)), torch.tensor([2])).to(device),\n",
        "                  torch.normal(torch.zeros((16, 10)), torch.tensor([2])).to(device)]\n",
        "        self.B = [torch.normal(torch.zeros((16)), torch.tensor(2)).to(device),\n",
        "                  torch.normal(torch.zeros((16)), torch.tensor(2)).to(device),\n",
        "                  torch.normal(torch.zeros((10)), torch.tensor(2)).to(device)]\n",
        "    \n",
        "    def forward(self, X):\n",
        "        L1 = sigmoid(torch.matmul(X, self.W[0]) + self.B[0])\n",
        "        L2 = sigmoid(torch.matmul(L1, self.W[1]) + self.B[1])\n",
        "        Y = softmax(torch.matmul(L2, self.W[2]) + self.B[2])\n",
        "        return Y\n",
        "\n",
        "    def loss(self, X, Y):\n",
        "        return torch.sum(torch.pow(self.forward(X) - Y, 2)) # / 원소 갯수(어케 구함?)\n",
        "    \n",
        "    def backward(self, X, Y):\n",
        "        dW = [0, 0, 0]\n",
        "        dB = [0, 0, 0]\n",
        "        L1 = torch.matmul(X, self.W[0]) + self.B[0]\n",
        "        L2 = torch.matmul(sigmoid(L1), self.W[1]) + self.B[1]\n",
        "        FOR = torch.matmul(sigmoid(L2), self.W[2]) + self.B[2]\n",
        "\n",
        "        dB[2] = torch.mul(dsoftmax(FOR), 2 * (softmax(FOR) - Y))\n",
        "        dW[2] = torch.matmul(torch.transpose(torch.unsqueeze(sigmoid(L2), 1), 1, 2), torch.unsqueeze(dB[2], 1))\n",
        "\n",
        "        dB[1] = torch.mul(torch.matmul(dB[2], torch.transpose(self.W[2], 0, 1)), dsigmoid(L2))\n",
        "        dW[1] = torch.matmul(torch.transpose(torch.unsqueeze(sigmoid(L1), 1), 1, 2), torch.unsqueeze(dB[1], 1))\n",
        "\n",
        "        dB[0] = torch.mul(torch.matmul(dB[1], torch.transpose(self.W[1], 0, 1)), dsigmoid(L1))\n",
        "        dW[0] = torch.matmul(torch.transpose(torch.unsqueeze(X, 1), 1, 2), torch.unsqueeze(dB[0], 1))\n",
        "\n",
        "\n",
        "        self.W[2] = self.W[2] + torch.mul(torch.sum(dW[2], dim = 0), -1 * lr)\n",
        "        self.B[2] = self.B[2] + torch.mul(torch.sum(dB[2], dim = 0), -1 * lr)\n",
        "\n",
        "        self.W[1] = self.W[1] + torch.mul(torch.sum(dW[1], dim = 0), -1 * lr)\n",
        "        self.B[1] = self.B[1] + torch.mul(torch.sum(dB[1], dim = 0), -1 * lr)\n",
        "\n",
        "        self.W[0] = self.W[0] + torch.mul(torch.sum(dW[0], dim = 0), -1 * lr)\n",
        "        self.B[0] = self.B[0] + torch.mul(torch.sum(dB[0], dim = 0), -1 * lr)"
      ],
      "execution_count": 20,
      "outputs": []
    },
    {
      "cell_type": "code",
      "metadata": {
        "id": "NPlcg5ibjZrN"
      },
      "source": [
        "mnist_train = dsets.MNIST(root='MNIST_data/', # 다운로드 경로 지정\n",
        "                          train=True, # True를 지정하면 훈련 데이터로 다운로드\n",
        "                          transform=transforms.ToTensor(), # 텐서로 변환\n",
        "                          download=True)\n",
        "\n",
        "mnist_test = dsets.MNIST(root='MNIST_data/', # 다운로드 경로 지정\n",
        "                         train=False, # False를 지정하면 테스트 데이터로 다운로드\n",
        "                         transform=transforms.ToTensor(), # 텐서로 변환\n",
        "                         download=True)"
      ],
      "execution_count": 21,
      "outputs": []
    },
    {
      "cell_type": "code",
      "metadata": {
        "id": "RqoaCJnlzo8a"
      },
      "source": [
        "def one_hot_encoding(x):\n",
        "    arg = [0] * 10\n",
        "    arg[x] = 1\n",
        "    return arg"
      ],
      "execution_count": 22,
      "outputs": []
    },
    {
      "cell_type": "code",
      "metadata": {
        "id": "dc3F6LKt2grM"
      },
      "source": [
        "mnist_test_X = []\n",
        "for i in range(10000):\n",
        "    mnist_test_X.append(mnist_test[i][0].reshape(1, 784))\n",
        "\n",
        "mnist_test_X = torch.cat(mnist_test_X, dim = 0)\n",
        "mnist_test_X = mnist_test_X.to(device)"
      ],
      "execution_count": 23,
      "outputs": []
    },
    {
      "cell_type": "code",
      "metadata": {
        "id": "BLSp6MPT2jEY"
      },
      "source": [
        "mnist_train_X = []\n",
        "for i in range(60000):\n",
        "    mnist_train_X.append(mnist_train[i][0].reshape(1, 784))\n",
        "\n",
        "mnist_train_X = torch.cat(mnist_train_X, dim = 0)\n",
        "mnist_train_X = mnist_train_X.to(device)"
      ],
      "execution_count": 24,
      "outputs": []
    },
    {
      "cell_type": "code",
      "metadata": {
        "id": "uyYsh-gM79Xm"
      },
      "source": [
        "mnist_test_Y = []\n",
        "for i in range(10000):\n",
        "    mnist_test_Y.append(one_hot_encoding(mnist_test[i][1]))\n",
        "mnist_test_Y = torch.tensor(mnist_test_Y).to(device)"
      ],
      "execution_count": 25,
      "outputs": []
    },
    {
      "cell_type": "code",
      "metadata": {
        "id": "6WVUlS5R8u4C"
      },
      "source": [
        "mnist_train_Y = []\n",
        "for i in range(60000):\n",
        "    mnist_train_Y.append(one_hot_encoding(mnist_train[i][1]))\n",
        "mnist_train_Y = torch.tensor(mnist_train_Y).to(device)"
      ],
      "execution_count": 26,
      "outputs": []
    },
    {
      "cell_type": "code",
      "metadata": {
        "id": "aaYWBHEx9GLW"
      },
      "source": [
        "M = model()"
      ],
      "execution_count": 27,
      "outputs": []
    },
    {
      "cell_type": "code",
      "metadata": {
        "id": "odnbfQSY8qeP"
      },
      "source": [
        "def hit():\n",
        "    return torch.sum(torch.eq(torch.argmax(mnist_test_Y, dim = 1), torch.argmax(M.forward(mnist_test_X), dim = 1)))"
      ],
      "execution_count": 28,
      "outputs": []
    },
    {
      "cell_type": "code",
      "metadata": {
        "id": "GChjPELx6aGW",
        "colab": {
          "base_uri": "https://localhost:8080/",
          "height": 969
        },
        "outputId": "8b7d7a6f-4f63-4031-a9c7-812c2e2dbf3f"
      },
      "source": [
        "comp = torch.tensor([9000]).to(device)\n",
        "# for tr in range(100):\n",
        "tr = 1\n",
        "max_hit = curr_hit = hit()\n",
        "while True:\n",
        "    # for i in range(60000):\n",
        "    #     #print(tr, i, M.loss(mnist_train_X[i], mnist_train_Y[i]).to(torch.device('cpu')), end = '\\t')\n",
        "    #     M.backward(mnist_train_X[i], mnist_train_Y[i])\n",
        "    #     loss_sum += M.loss(mnist_train_X[i], mnist_train_Y[i])\n",
        "    #     #print(M.loss(mnist_train_X[i], mnist_train_Y[i]).to(torch.device('cpu')))\n",
        "    M.backward(mnist_train_X, mnist_train_Y)\n",
        "    loss_sum = M.loss(mnist_train_X, mnist_train_Y)\n",
        "    print(tr, curr_hit, loss_sum)\n",
        "    tr += 1\n",
        "    curr_hit = hit()\n",
        "    if torch.gt(curr_hit, max_hit + 10):\n",
        "        torch.save(M.W[0], '/content/drive/MyDrive/mnist_train/'+str(curr_hit.tolist() / 100)+'W0.pt')\n",
        "        torch.save(M.W[1], '/content/drive/MyDrive/mnist_train/'+str(curr_hit.tolist() / 100)+'W1.pt')\n",
        "        torch.save(M.W[2], '/content/drive/MyDrive/mnist_train/'+str(curr_hit.tolist() / 100)+'W2.pt')\n",
        "\n",
        "        torch.save(M.B[0], '/content/drive/MyDrive/mnist_train/'+str(curr_hit.tolist() / 100)+'B0.pt')\n",
        "        torch.save(M.B[1], '/content/drive/MyDrive/mnist_train/'+str(curr_hit.tolist() / 100)+'B1.pt')\n",
        "        torch.save(M.B[2], '/content/drive/MyDrive/mnist_train/'+str(curr_hit.tolist() / 100)+'B2.pt')\n",
        "        max_hit = curr_hit"
      ],
      "execution_count": 32,
      "outputs": [
        {
          "output_type": "stream",
          "text": [
            "1 tensor(9059) tensor(6886.8560)\n",
            "2 tensor(9059) tensor(6886.8569)\n",
            "3 tensor(9059) tensor(6886.8457)\n",
            "4 tensor(9059) tensor(6886.8335)\n",
            "5 tensor(9059) tensor(6886.8086)\n",
            "6 tensor(9059) tensor(6886.8081)\n",
            "7 tensor(9059) tensor(6886.7910)\n",
            "8 tensor(9059) tensor(6886.7847)\n",
            "9 tensor(9059) tensor(6886.7637)\n",
            "10 tensor(9059) tensor(6886.7856)\n",
            "11 tensor(9059) tensor(6886.7646)\n",
            "12 tensor(9059) tensor(6886.7559)\n",
            "13 tensor(9059) tensor(6886.7446)\n",
            "14 tensor(9059) tensor(6886.7236)\n",
            "15 tensor(9059) tensor(6886.7026)\n",
            "16 tensor(9059) tensor(6886.7070)\n",
            "17 tensor(9059) tensor(6886.7017)\n",
            "18 tensor(9059) tensor(6886.6738)\n",
            "19 tensor(9059) tensor(6886.6499)\n",
            "20 tensor(9059) tensor(6886.6567)\n",
            "21 tensor(9059) tensor(6886.6685)\n",
            "22 tensor(9059) tensor(6886.6665)\n",
            "23 tensor(9059) tensor(6886.6592)\n",
            "24 tensor(9059) tensor(6886.6440)\n",
            "25 tensor(9059) tensor(6886.6338)\n",
            "26 tensor(9059) tensor(6886.6436)\n",
            "27 tensor(9059) tensor(6886.6484)\n",
            "28 tensor(9059) tensor(6886.6313)\n",
            "29 tensor(9059) tensor(6886.6270)\n",
            "30 tensor(9059) tensor(6886.6089)\n",
            "31 tensor(9059) tensor(6886.5874)\n",
            "32 tensor(9059) tensor(6886.5850)\n",
            "33 tensor(9059) tensor(6886.5762)\n",
            "34 tensor(9059) tensor(6886.5542)\n",
            "35 tensor(9059) tensor(6886.5376)\n",
            "36 tensor(9059) tensor(6886.5156)\n",
            "37 tensor(9059) tensor(6886.5083)\n"
          ],
          "name": "stdout"
        },
        {
          "output_type": "error",
          "ename": "KeyboardInterrupt",
          "evalue": "ignored",
          "traceback": [
            "\u001b[0;31m---------------------------------------------------------------------------\u001b[0m",
            "\u001b[0;31mKeyboardInterrupt\u001b[0m                         Traceback (most recent call last)",
            "\u001b[0;32m<ipython-input-32-9d1f4c5a09ee>\u001b[0m in \u001b[0;36m<module>\u001b[0;34m()\u001b[0m\n\u001b[1;32m      9\u001b[0m     \u001b[0;31m#     loss_sum += M.loss(mnist_train_X[i], mnist_train_Y[i])\u001b[0m\u001b[0;34m\u001b[0m\u001b[0;34m\u001b[0m\u001b[0;34m\u001b[0m\u001b[0m\n\u001b[1;32m     10\u001b[0m     \u001b[0;31m#     #print(M.loss(mnist_train_X[i], mnist_train_Y[i]).to(torch.device('cpu')))\u001b[0m\u001b[0;34m\u001b[0m\u001b[0;34m\u001b[0m\u001b[0;34m\u001b[0m\u001b[0m\n\u001b[0;32m---> 11\u001b[0;31m     \u001b[0mM\u001b[0m\u001b[0;34m.\u001b[0m\u001b[0mbackward\u001b[0m\u001b[0;34m(\u001b[0m\u001b[0mmnist_train_X\u001b[0m\u001b[0;34m,\u001b[0m \u001b[0mmnist_train_Y\u001b[0m\u001b[0;34m)\u001b[0m\u001b[0;34m\u001b[0m\u001b[0;34m\u001b[0m\u001b[0m\n\u001b[0m\u001b[1;32m     12\u001b[0m     \u001b[0mloss_sum\u001b[0m \u001b[0;34m=\u001b[0m \u001b[0mM\u001b[0m\u001b[0;34m.\u001b[0m\u001b[0mloss\u001b[0m\u001b[0;34m(\u001b[0m\u001b[0mmnist_train_X\u001b[0m\u001b[0;34m,\u001b[0m \u001b[0mmnist_train_Y\u001b[0m\u001b[0;34m)\u001b[0m\u001b[0;34m\u001b[0m\u001b[0;34m\u001b[0m\u001b[0m\n\u001b[1;32m     13\u001b[0m     \u001b[0mprint\u001b[0m\u001b[0;34m(\u001b[0m\u001b[0mtr\u001b[0m\u001b[0;34m,\u001b[0m \u001b[0mcurr_hit\u001b[0m\u001b[0;34m,\u001b[0m \u001b[0mloss_sum\u001b[0m\u001b[0;34m)\u001b[0m\u001b[0;34m\u001b[0m\u001b[0;34m\u001b[0m\u001b[0m\n",
            "\u001b[0;32m<ipython-input-20-7861e02bc9ec>\u001b[0m in \u001b[0;36mbackward\u001b[0;34m(self, X, Y)\u001b[0m\n\u001b[1;32m     24\u001b[0m         \u001b[0mFOR\u001b[0m \u001b[0;34m=\u001b[0m \u001b[0mtorch\u001b[0m\u001b[0;34m.\u001b[0m\u001b[0mmatmul\u001b[0m\u001b[0;34m(\u001b[0m\u001b[0msigmoid\u001b[0m\u001b[0;34m(\u001b[0m\u001b[0mL2\u001b[0m\u001b[0;34m)\u001b[0m\u001b[0;34m,\u001b[0m \u001b[0mself\u001b[0m\u001b[0;34m.\u001b[0m\u001b[0mW\u001b[0m\u001b[0;34m[\u001b[0m\u001b[0;36m2\u001b[0m\u001b[0;34m]\u001b[0m\u001b[0;34m)\u001b[0m \u001b[0;34m+\u001b[0m \u001b[0mself\u001b[0m\u001b[0;34m.\u001b[0m\u001b[0mB\u001b[0m\u001b[0;34m[\u001b[0m\u001b[0;36m2\u001b[0m\u001b[0;34m]\u001b[0m\u001b[0;34m\u001b[0m\u001b[0;34m\u001b[0m\u001b[0m\n\u001b[1;32m     25\u001b[0m \u001b[0;34m\u001b[0m\u001b[0m\n\u001b[0;32m---> 26\u001b[0;31m         \u001b[0mdB\u001b[0m\u001b[0;34m[\u001b[0m\u001b[0;36m2\u001b[0m\u001b[0;34m]\u001b[0m \u001b[0;34m=\u001b[0m \u001b[0mtorch\u001b[0m\u001b[0;34m.\u001b[0m\u001b[0mmul\u001b[0m\u001b[0;34m(\u001b[0m\u001b[0mdsoftmax\u001b[0m\u001b[0;34m(\u001b[0m\u001b[0mFOR\u001b[0m\u001b[0;34m)\u001b[0m\u001b[0;34m,\u001b[0m \u001b[0;36m2\u001b[0m \u001b[0;34m*\u001b[0m \u001b[0;34m(\u001b[0m\u001b[0msoftmax\u001b[0m\u001b[0;34m(\u001b[0m\u001b[0mFOR\u001b[0m\u001b[0;34m)\u001b[0m \u001b[0;34m-\u001b[0m \u001b[0mY\u001b[0m\u001b[0;34m)\u001b[0m\u001b[0;34m)\u001b[0m\u001b[0;34m\u001b[0m\u001b[0;34m\u001b[0m\u001b[0m\n\u001b[0m\u001b[1;32m     27\u001b[0m         \u001b[0mdW\u001b[0m\u001b[0;34m[\u001b[0m\u001b[0;36m2\u001b[0m\u001b[0;34m]\u001b[0m \u001b[0;34m=\u001b[0m \u001b[0mtorch\u001b[0m\u001b[0;34m.\u001b[0m\u001b[0mmatmul\u001b[0m\u001b[0;34m(\u001b[0m\u001b[0mtorch\u001b[0m\u001b[0;34m.\u001b[0m\u001b[0mtranspose\u001b[0m\u001b[0;34m(\u001b[0m\u001b[0mtorch\u001b[0m\u001b[0;34m.\u001b[0m\u001b[0munsqueeze\u001b[0m\u001b[0;34m(\u001b[0m\u001b[0msigmoid\u001b[0m\u001b[0;34m(\u001b[0m\u001b[0mL2\u001b[0m\u001b[0;34m)\u001b[0m\u001b[0;34m,\u001b[0m \u001b[0;36m1\u001b[0m\u001b[0;34m)\u001b[0m\u001b[0;34m,\u001b[0m \u001b[0;36m1\u001b[0m\u001b[0;34m,\u001b[0m \u001b[0;36m2\u001b[0m\u001b[0;34m)\u001b[0m\u001b[0;34m,\u001b[0m \u001b[0mtorch\u001b[0m\u001b[0;34m.\u001b[0m\u001b[0munsqueeze\u001b[0m\u001b[0;34m(\u001b[0m\u001b[0mdB\u001b[0m\u001b[0;34m[\u001b[0m\u001b[0;36m2\u001b[0m\u001b[0;34m]\u001b[0m\u001b[0;34m,\u001b[0m \u001b[0;36m1\u001b[0m\u001b[0;34m)\u001b[0m\u001b[0;34m)\u001b[0m\u001b[0;34m\u001b[0m\u001b[0;34m\u001b[0m\u001b[0m\n\u001b[1;32m     28\u001b[0m \u001b[0;34m\u001b[0m\u001b[0m\n",
            "\u001b[0;32m<ipython-input-18-914ccc247e0d>\u001b[0m in \u001b[0;36mdsoftmax\u001b[0;34m(X)\u001b[0m\n\u001b[1;32m      5\u001b[0m \u001b[0;32mdef\u001b[0m \u001b[0mdsoftmax\u001b[0m\u001b[0;34m(\u001b[0m\u001b[0mX\u001b[0m\u001b[0;34m)\u001b[0m\u001b[0;34m:\u001b[0m\u001b[0;34m\u001b[0m\u001b[0;34m\u001b[0m\u001b[0m\n\u001b[1;32m      6\u001b[0m     \u001b[0;31m#return torch.mul((torch.sum(torch.exp(X), dim = 1) - torch.exp(X)) / torch.pow(torch.sum(torch.exp(X), dim = 1), 2), torch.exp(X))\u001b[0m\u001b[0;34m\u001b[0m\u001b[0;34m\u001b[0m\u001b[0;34m\u001b[0m\u001b[0m\n\u001b[0;32m----> 7\u001b[0;31m     \u001b[0;32mreturn\u001b[0m \u001b[0msoftmax\u001b[0m\u001b[0;34m(\u001b[0m\u001b[0mX\u001b[0m\u001b[0;34m)\u001b[0m \u001b[0;34m-\u001b[0m \u001b[0mtorch\u001b[0m\u001b[0;34m.\u001b[0m\u001b[0mpow\u001b[0m\u001b[0;34m(\u001b[0m\u001b[0msoftmax\u001b[0m\u001b[0;34m(\u001b[0m\u001b[0mX\u001b[0m\u001b[0;34m)\u001b[0m\u001b[0;34m,\u001b[0m \u001b[0;36m2\u001b[0m\u001b[0;34m)\u001b[0m\u001b[0;34m\u001b[0m\u001b[0;34m\u001b[0m\u001b[0m\n\u001b[0m",
            "\u001b[0;32m<ipython-input-17-b4aec2f0f1ff>\u001b[0m in \u001b[0;36msoftmax\u001b[0;34m(X)\u001b[0m\n\u001b[1;32m      3\u001b[0m \u001b[0;34m\u001b[0m\u001b[0m\n\u001b[1;32m      4\u001b[0m \u001b[0;32mdef\u001b[0m \u001b[0msoftmax\u001b[0m\u001b[0;34m(\u001b[0m\u001b[0mX\u001b[0m\u001b[0;34m)\u001b[0m\u001b[0;34m:\u001b[0m\u001b[0;34m\u001b[0m\u001b[0;34m\u001b[0m\u001b[0m\n\u001b[0;32m----> 5\u001b[0;31m     \u001b[0;32mreturn\u001b[0m \u001b[0mtorch\u001b[0m\u001b[0;34m.\u001b[0m\u001b[0mexp\u001b[0m\u001b[0;34m(\u001b[0m\u001b[0mX\u001b[0m\u001b[0;34m)\u001b[0m \u001b[0;34m/\u001b[0m \u001b[0mtorch\u001b[0m\u001b[0;34m.\u001b[0m\u001b[0munsqueeze\u001b[0m\u001b[0;34m(\u001b[0m\u001b[0mtorch\u001b[0m\u001b[0;34m.\u001b[0m\u001b[0msum\u001b[0m\u001b[0;34m(\u001b[0m\u001b[0mtorch\u001b[0m\u001b[0;34m.\u001b[0m\u001b[0mexp\u001b[0m\u001b[0;34m(\u001b[0m\u001b[0mX\u001b[0m\u001b[0;34m)\u001b[0m\u001b[0;34m,\u001b[0m \u001b[0mdim\u001b[0m \u001b[0;34m=\u001b[0m \u001b[0;36m1\u001b[0m\u001b[0;34m)\u001b[0m\u001b[0;34m,\u001b[0m \u001b[0;36m1\u001b[0m\u001b[0;34m)\u001b[0m\u001b[0;34m\u001b[0m\u001b[0;34m\u001b[0m\u001b[0m\n\u001b[0m",
            "\u001b[0;31mKeyboardInterrupt\u001b[0m: "
          ]
        }
      ]
    },
    {
      "cell_type": "code",
      "metadata": {
        "id": "WSY-Imn63lyh"
      },
      "source": [
        "torch.save(M.W[0], '/content/drive/MyDrive/mnist_train/'+str(hit().tolist() / 100)+'W0.pt')\n",
        "torch.save(M.W[1], '/content/drive/MyDrive/mnist_train/'+str(hit().tolist() / 100)+'W1.pt')\n",
        "torch.save(M.W[2], '/content/drive/MyDrive/mnist_train/'+str(hit().tolist() / 100)+'W2.pt')\n",
        "\n",
        "torch.save(M.B[0], '/content/drive/MyDrive/mnist_train/'+str(hit().tolist() / 100)+'B0.pt')\n",
        "torch.save(M.B[1], '/content/drive/MyDrive/mnist_train/'+str(hit().tolist() / 100)+'B1.pt')\n",
        "torch.save(M.B[2], '/content/drive/MyDrive/mnist_train/'+str(hit().tolist() / 100)+'B2.pt')"
      ],
      "execution_count": null,
      "outputs": []
    },
    {
      "cell_type": "code",
      "metadata": {
        "id": "Mp3NpprLc_JE"
      },
      "source": [
        "torch.save(torch.tensor([0]), '/content/drive/MyDrive/mnist_train/'+'test.pt')"
      ],
      "execution_count": null,
      "outputs": []
    },
    {
      "cell_type": "code",
      "metadata": {
        "id": "0UpPinoTjwS1"
      },
      "source": [
        "if torch.cuda.is_available():\n",
        "    M.W[0] = torch.load('/content/drive/MyDrive/mnist_train/90.59W0.pt')\n",
        "    M.W[1] = torch.load('/content/drive/MyDrive/mnist_train/90.59W1.pt')\n",
        "    M.W[2] = torch.load('/content/drive/MyDrive/mnist_train/90.59W2.pt')\n",
        "    \n",
        "    M.B[0] = torch.load('/content/drive/MyDrive/mnist_train/90.59B0.pt'\n",
        "    M.B[1] = torch.load('/content/drive/MyDrive/mnist_train/90.59B1.pt'\n",
        "    M.B[2] = torch.load('/content/drive/MyDrive/mnist_train/90.59B2.pt'\n",
        "else:\n",
        "    M.W[0] = torch.load('/content/drive/MyDrive/mnist_train/90.59W0.pt', map_location=torch.device('cpu'))\n",
        "    M.W[1] = torch.load('/content/drive/MyDrive/mnist_train/90.59W1.pt', map_location=torch.device('cpu'))\n",
        "    M.W[2] = torch.load('/content/drive/MyDrive/mnist_train/90.59W2.pt', map_location=torch.device('cpu   '))\n",
        "\n",
        "    M.B[0] = torch.load('/content/drive/MyDrive/mnist_train/90.59B0.pt', map_location=torch.device('cpu'))\n",
        "    M.B[1] = torch.load('/content/drive/MyDrive/mnist_train/90.59B1.pt', map_location=torch.device('cpu'))\n",
        "    M.B[2] = torch.load('/content/drive/MyDrive/mnist_train/90.59B2.pt', map_location=torch.device('cpu'))"
      ],
      "execution_count": 30,
      "outputs": []
    },
    {
      "cell_type": "code",
      "metadata": {
        "id": "nCdv3CBnkMEG"
      },
      "source": [
        ""
      ],
      "execution_count": null,
      "outputs": []
    }
  ]
}